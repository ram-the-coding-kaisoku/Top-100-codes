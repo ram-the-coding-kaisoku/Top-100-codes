{
 "cells": [
  {
   "cell_type": "markdown",
   "id": "375e8afe",
   "metadata": {},
   "source": [
    "Basics of Nump"
   ]
  },
  {
   "cell_type": "code",
   "execution_count": 3,
   "id": "45ba9c50",
   "metadata": {},
   "outputs": [],
   "source": [
    "import numpy as np"
   ]
  },
  {
   "cell_type": "code",
   "execution_count": 2,
   "id": "80435caa",
   "metadata": {},
   "outputs": [
    {
     "name": "stdout",
     "output_type": "stream",
     "text": [
      "[1 2 3]\n"
     ]
    }
   ],
   "source": [
    "a=np.array([1,2,3])\n",
    "print(a)"
   ]
  },
  {
   "cell_type": "code",
   "execution_count": 3,
   "id": "bc5b9f77",
   "metadata": {},
   "outputs": [
    {
     "name": "stdout",
     "output_type": "stream",
     "text": [
      "[[1.2  5.4 ]\n",
      " [3.5  7.04]]\n"
     ]
    }
   ],
   "source": [
    "b=np.array([[1.2,5.4],[3.5,7.04]])\n",
    "print(b)"
   ]
  },
  {
   "cell_type": "markdown",
   "id": "9e46ba75",
   "metadata": {},
   "source": [
    "Array atributes"
   ]
  },
  {
   "cell_type": "code",
   "execution_count": 13,
   "id": "cac8804a",
   "metadata": {},
   "outputs": [
    {
     "data": {
      "text/plain": [
       "1"
      ]
     },
     "execution_count": 13,
     "metadata": {},
     "output_type": "execute_result"
    }
   ],
   "source": [
    "a.dtype\n",
    "a.size\n",
    "a.shape\n",
    "a.ndim"
   ]
  },
  {
   "cell_type": "markdown",
   "id": "5eb42ddc",
   "metadata": {},
   "source": [
    "Sorting"
   ]
  },
  {
   "cell_type": "code",
   "execution_count": 14,
   "id": "f8fa7b75",
   "metadata": {},
   "outputs": [
    {
     "data": {
      "text/plain": [
       "array([ 2,  3,  4,  5,  8,  9, 10, 17])"
      ]
     },
     "execution_count": 14,
     "metadata": {},
     "output_type": "execute_result"
    }
   ],
   "source": [
    "arr=np.array([3,5,2,17,8,4,9,10])\n",
    "np.sort(arr)"
   ]
  },
  {
   "cell_type": "markdown",
   "id": "9ddad391",
   "metadata": {},
   "source": [
    "Concatenate"
   ]
  },
  {
   "cell_type": "code",
   "execution_count": 16,
   "id": "5abfd486",
   "metadata": {},
   "outputs": [
    {
     "data": {
      "text/plain": [
       "array([1, 2, 3, 4, 5, 6])"
      ]
     },
     "execution_count": 16,
     "metadata": {},
     "output_type": "execute_result"
    }
   ],
   "source": [
    "a=np.array([1,2,3])\n",
    "b=np.array([4,5,6])\n",
    "np.concatenate((a,b))"
   ]
  },
  {
   "cell_type": "markdown",
   "id": "fe4a5186",
   "metadata": {},
   "source": [
    "Reshape"
   ]
  },
  {
   "cell_type": "code",
   "execution_count": 17,
   "id": "ec13fa25",
   "metadata": {},
   "outputs": [
    {
     "data": {
      "text/plain": [
       "array([[1, 2, 3],\n",
       "       [4, 5, 6],\n",
       "       [7, 8, 9]])"
      ]
     },
     "execution_count": 17,
     "metadata": {},
     "output_type": "execute_result"
    }
   ],
   "source": [
    "a=np.array([1,2,3,4,5,6,7,8,9])\n",
    "a.reshape((3,3))"
   ]
  },
  {
   "cell_type": "markdown",
   "id": "a7eaed24",
   "metadata": {},
   "source": [
    "Indexing and slicing"
   ]
  },
  {
   "cell_type": "code",
   "execution_count": 29,
   "id": "b9bd8b89",
   "metadata": {},
   "outputs": [
    {
     "data": {
      "text/plain": [
       "array([1, 2, 3, 4, 5, 6, 7, 8, 9])"
      ]
     },
     "execution_count": 29,
     "metadata": {},
     "output_type": "execute_result"
    }
   ],
   "source": [
    "data = np.array([1, 2, 3,4,5,6,7,8,9])\n",
    "a=data.copy()\n",
    "a"
   ]
  },
  {
   "cell_type": "markdown",
   "id": "cdd70f84",
   "metadata": {},
   "source": [
    "Basic array operations"
   ]
  },
  {
   "cell_type": "code",
   "execution_count": null,
   "id": "15d4b1b2",
   "metadata": {},
   "outputs": [
    {
     "data": {
      "text/plain": [
       "array([3, 4, 5])"
      ]
     },
     "execution_count": 35,
     "metadata": {},
     "output_type": "execute_result"
    },
    {
     "ename": "",
     "evalue": "",
     "output_type": "error",
     "traceback": [
      "\u001b[1;31mThe Kernel crashed while executing code in the current cell or a previous cell. \n",
      "\u001b[1;31mPlease review the code in the cell(s) to identify a possible cause of the failure. \n",
      "\u001b[1;31mClick <a href='https://aka.ms/vscodeJupyterKernelCrash'>here</a> for more info. \n",
      "\u001b[1;31mView Jupyter <a href='command:jupyter.viewOutput'>log</a> for further details."
     ]
    }
   ],
   "source": [
    "a=np.array([1,2,3])\n",
    "b=np.array([4,5,6])\n",
    "a*b\n",
    "a+a\n",
    "a.sum()\n",
    "b.sum()\n",
    "c=np.array([[1,1,1],[2,3,4]])\n",
    "c.sum(axis=0)"
   ]
  },
  {
   "cell_type": "code",
   "execution_count": 27,
   "id": "8e2a8993",
   "metadata": {},
   "outputs": [
    {
     "data": {
      "text/plain": [
       "array([5, 8, 9, 8, 5])"
      ]
     },
     "execution_count": 27,
     "metadata": {},
     "output_type": "execute_result"
    }
   ],
   "source": [
    "a=np.array([1,2,3,4,5])\n",
    "b=np.array([5,4,3,2,1])\n",
    "a * b"
   ]
  },
  {
   "cell_type": "code",
   "execution_count": 18,
   "id": "3f8ea504",
   "metadata": {},
   "outputs": [
    {
     "data": {
      "text/plain": [
       "array([7, 8, 9])"
      ]
     },
     "execution_count": 18,
     "metadata": {},
     "output_type": "execute_result"
    }
   ],
   "source": [
    "a.sum()\n",
    "a.prod()\n",
    "\n",
    "arr = np.array([[3,7,1],[2,8,5,],[4,9,6]])\n",
    "\n",
    "arr.max(axis=1)"
   ]
  },
  {
   "cell_type": "code",
   "execution_count": 19,
   "id": "99068d31",
   "metadata": {},
   "outputs": [
    {
     "data": {
      "text/plain": [
       "8"
      ]
     },
     "execution_count": 19,
     "metadata": {},
     "output_type": "execute_result"
    }
   ],
   "source": [
    "arr[1,1]"
   ]
  },
  {
   "cell_type": "code",
   "execution_count": 29,
   "id": "e730283e",
   "metadata": {},
   "outputs": [
    {
     "data": {
      "text/plain": [
       "array([[4, 4, 8],\n",
       "       [6, 1, 3],\n",
       "       [7, 6, 2]], dtype=int64)"
      ]
     },
     "execution_count": 29,
     "metadata": {},
     "output_type": "execute_result"
    }
   ],
   "source": [
    "#Random number\n",
    "rng = np.random.default_rng()\n",
    "a=rng.integers(10,size=(3,3))\n",
    "a"
   ]
  },
  {
   "cell_type": "code",
   "execution_count": null,
   "id": "49bd892a",
   "metadata": {},
   "outputs": [],
   "source": [
    "#Get unique values and count\n",
    "np.unique(a,return_index=True,return_counts=True)"
   ]
  },
  {
   "cell_type": "code",
   "execution_count": null,
   "id": "2b514b2c",
   "metadata": {},
   "outputs": [],
   "source": [
    "a=np.arange(6)\n",
    "a\n",
    "a=a.reshape(2,3)\n",
    "a=a.T\n",
    "a"
   ]
  },
  {
   "cell_type": "code",
   "execution_count": null,
   "id": "8669dba8",
   "metadata": {},
   "outputs": [],
   "source": [
    "#How to reverse an array\n",
    "\n",
    "arr = np.array([1, 2, 3, 4, 5, 6, 7, 8])\n",
    "\n",
    "r = np.flip(arr)\n",
    "r"
   ]
  },
  {
   "cell_type": "code",
   "execution_count": null,
   "id": "080e84b8",
   "metadata": {},
   "outputs": [],
   "source": [
    "# How to reverse a 2d array\n",
    "\n",
    "arr_2d = np.array([[1, 2, 3, 4], [5, 6, 7, 8], [9, 10, 11, 12]])\n",
    "\n",
    "r=np.flip(arr_2d[2])\n",
    "\n",
    "r"
   ]
  },
  {
   "cell_type": "code",
   "execution_count": null,
   "id": "9fe58376",
   "metadata": {},
   "outputs": [],
   "source": [
    "#Flatten or ravel\n",
    "a = np.array([[1, 2, 3, 4], [5, 6, 7, 8], [9, 10, 11, 12]])\n",
    "b= a.flatten()\n",
    "print(a)\n",
    "b[2]=111\n",
    "print(a)\n",
    "b"
   ]
  },
  {
   "cell_type": "code",
   "execution_count": null,
   "id": "c8618eb2",
   "metadata": {},
   "outputs": [],
   "source": [
    "arr=rng.integers(101,size=(10,10),dtype=int)\n",
    "\n",
    "np.savetxt('new_file.csv', arr)"
   ]
  },
  {
   "cell_type": "code",
   "execution_count": 54,
   "id": "14dbd3f8",
   "metadata": {},
   "outputs": [
    {
     "data": {
      "text/plain": [
       "array([[39., 31., 50., 41., 97., 38., 74., 10., 28., 37.],\n",
       "       [43., 45., 44., 27.,  3., 63., 32., 53., 59., 73.],\n",
       "       [39., 51.,  9., 30., 74., 61., 21., 40., 89., 35.],\n",
       "       [18., 65., 17., 44., 85., 63., 59., 43., 94., 99.],\n",
       "       [60., 53., 27., 21., 19., 38., 64., 98., 20., 68.],\n",
       "       [59., 32.,  0., 84., 40., 33., 17., 37., 98., 30.],\n",
       "       [ 4.,  2., 43., 46., 71., 95., 81., 58., 58., 67.],\n",
       "       [33., 71., 81., 91., 58., 52., 36., 28., 39., 67.],\n",
       "       [59., 56., 55., 14., 23., 32., 78., 39., 87., 82.],\n",
       "       [49., 82., 68., 66.,  8., 13., 90., 25., 32., 96.]])"
      ]
     },
     "execution_count": 54,
     "metadata": {},
     "output_type": "execute_result"
    }
   ],
   "source": [
    "np.loadtxt('new_file.csv')"
   ]
  }
 ],
 "metadata": {
  "kernelspec": {
   "display_name": "base",
   "language": "python",
   "name": "python3"
  },
  "language_info": {
   "codemirror_mode": {
    "name": "ipython",
    "version": 3
   },
   "file_extension": ".py",
   "mimetype": "text/x-python",
   "name": "python",
   "nbconvert_exporter": "python",
   "pygments_lexer": "ipython3",
   "version": "3.8.8"
  }
 },
 "nbformat": 4,
 "nbformat_minor": 5
}
